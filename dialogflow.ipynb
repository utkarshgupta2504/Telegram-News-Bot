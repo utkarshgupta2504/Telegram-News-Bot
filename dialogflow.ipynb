{
 "cells": [
  {
   "cell_type": "code",
   "execution_count": 1,
   "metadata": {},
   "outputs": [],
   "source": [
    "#Sending the credentials to env\n",
    "import os\n",
    "os.environ[\"GOOGLE_APPLICATION_CREDENTIALS\"] = \"client.json\"\n",
    "\n",
    "#Import dotenv for creds\n",
    "import dotenv\n",
    "dotenv.load_dotenv()\n",
    "\n",
    "#import dialogflow\n",
    "import google.cloud.dialogflow_v2 as dialogflow\n",
    "dialogflow_session_client = dialogflow.SessionsClient()\n",
    "PROJECT_ID = os.environ[\"PROJECT_ID\"]"
   ]
  },
  {
   "cell_type": "code",
   "execution_count": 6,
   "metadata": {},
   "outputs": [],
   "source": [
    "def detect_intent_from_text(text, session_id = 12345, language_code=\"en\"):\n",
    "    session = dialogflow_session_client.session_path(PROJECT_ID, session_id)\n",
    "    text_input = dialogflow.types.TextInput(text=text, language_code=language_code)\n",
    "    query_input = dialogflow.types.QueryInput(text=text_input)\n",
    "    response = dialogflow_session_client.detect_intent(session=session, query_input=query_input)\n",
    "    return response.query_result"
   ]
  },
  {
   "cell_type": "code",
   "execution_count": 7,
   "metadata": {},
   "outputs": [
    {
     "data": {
      "text/plain": [
       "query_text: \"Hello!\"\n",
       "action: \"input.welcome\"\n",
       "parameters {\n",
       "}\n",
       "all_required_params_present: true\n",
       "fulfillment_text: \"Greetings! How can I assist?\"\n",
       "fulfillment_messages {\n",
       "  text {\n",
       "    text: \"Greetings! How can I assist?\"\n",
       "  }\n",
       "}\n",
       "intent {\n",
       "  name: \"projects/news-bot-clgg/agent/intents/ad1336b1-3bc7-413f-8db1-4a90c9ba84fc\"\n",
       "  display_name: \"Default Welcome Intent\"\n",
       "}\n",
       "intent_detection_confidence: 1.0\n",
       "language_code: \"en\""
      ]
     },
     "execution_count": 7,
     "metadata": {},
     "output_type": "execute_result"
    }
   ],
   "source": [
    "detect_intent_from_text(\"Hello!\", 12345)"
   ]
  },
  {
   "cell_type": "markdown",
   "metadata": {},
   "source": [
    "The default intent is trigggering, lets try our intents"
   ]
  },
  {
   "cell_type": "code",
   "execution_count": 8,
   "metadata": {},
   "outputs": [
    {
     "data": {
      "text/plain": [
       "query_text: \"Get me sports news from India in Hindi\"\n",
       "parameters {\n",
       "  fields {\n",
       "    key: \"geo-country\"\n",
       "    value {\n",
       "      string_value: \"India\"\n",
       "    }\n",
       "  }\n",
       "  fields {\n",
       "    key: \"language\"\n",
       "    value {\n",
       "      string_value: \"Hindi\"\n",
       "    }\n",
       "  }\n",
       "  fields {\n",
       "    key: \"topic\"\n",
       "    value {\n",
       "      string_value: \"Sports\"\n",
       "    }\n",
       "  }\n",
       "}\n",
       "all_required_params_present: true\n",
       "fulfillment_messages {\n",
       "  text {\n",
       "    text: \"\"\n",
       "  }\n",
       "}\n",
       "intent {\n",
       "  name: \"projects/news-bot-clgg/agent/intents/f69089ee-7026-4464-b0c7-76ff6e71889c\"\n",
       "  display_name: \"get_news\"\n",
       "}\n",
       "intent_detection_confidence: 0.646129\n",
       "language_code: \"en\""
      ]
     },
     "execution_count": 8,
     "metadata": {},
     "output_type": "execute_result"
    }
   ],
   "source": [
    "detect_intent_from_text(\"Get me sports news from India in Hindi\", 12345)"
   ]
  },
  {
   "cell_type": "code",
   "execution_count": 9,
   "metadata": {},
   "outputs": [],
   "source": [
    "customResponse = detect_intent_from_text(\"Get me sports news from India in Hindi\", 12345)"
   ]
  },
  {
   "cell_type": "code",
   "execution_count": 13,
   "metadata": {},
   "outputs": [
    {
     "data": {
      "text/plain": [
       "{'topic': 'Sports', 'geo-country': 'India', 'language': 'Hindi'}"
      ]
     },
     "execution_count": 13,
     "metadata": {},
     "output_type": "execute_result"
    }
   ],
   "source": [
    "dict(customResponse.parameters)"
   ]
  },
  {
   "cell_type": "code",
   "execution_count": 18,
   "metadata": {},
   "outputs": [
    {
     "data": {
      "text/plain": [
       "'get_news'"
      ]
     },
     "execution_count": 18,
     "metadata": {},
     "output_type": "execute_result"
    }
   ],
   "source": [
    "customResponse.intent.display_name"
   ]
  },
  {
   "cell_type": "markdown",
   "metadata": {},
   "source": [
    "We are getting what we wanted"
   ]
  },
  {
   "cell_type": "code",
   "execution_count": 20,
   "metadata": {},
   "outputs": [
    {
     "data": {
      "text/plain": [
       "query_text: \"What\\'s your name\"\n",
       "parameters {\n",
       "}\n",
       "all_required_params_present: true\n",
       "fulfillment_text: \"I am NewsBot!\"\n",
       "fulfillment_messages {\n",
       "  text {\n",
       "    text: \"I am NewsBot!\"\n",
       "  }\n",
       "}\n",
       "output_contexts {\n",
       "  name: \"projects/news-bot-clgg/agent/sessions/12345/contexts/__system_counters__\"\n",
       "  lifespan_count: 1\n",
       "  parameters {\n",
       "    fields {\n",
       "      key: \"no-input\"\n",
       "      value {\n",
       "        number_value: 0.0\n",
       "      }\n",
       "    }\n",
       "    fields {\n",
       "      key: \"no-match\"\n",
       "      value {\n",
       "        number_value: 0.0\n",
       "      }\n",
       "    }\n",
       "  }\n",
       "}\n",
       "intent {\n",
       "  name: \"projects/news-bot-clgg/agent/intents/5a36eb3a-9899-4716-9254-b73566c42477\"\n",
       "  display_name: \"custom_replies\"\n",
       "}\n",
       "intent_detection_confidence: 1.0\n",
       "language_code: \"en\""
      ]
     },
     "execution_count": 20,
     "metadata": {},
     "output_type": "execute_result"
    }
   ],
   "source": [
    "detect_intent_from_text(\"What's your name\", 12345)"
   ]
  },
  {
   "cell_type": "markdown",
   "metadata": {},
   "source": [
    "### Now for live news\n",
    "- Using `gnewsclient`"
   ]
  },
  {
   "cell_type": "code",
   "execution_count": 22,
   "metadata": {},
   "outputs": [],
   "source": [
    "#import the client\n",
    "from gnewsclient import gnewsclient\n",
    "\n",
    "client = gnewsclient.NewsClient()"
   ]
  },
  {
   "cell_type": "code",
   "execution_count": 23,
   "metadata": {},
   "outputs": [],
   "source": [
    "client.language = \"Hindi\"\n",
    "client.topic = \"Technology\"\n",
    "client.location = \"India\""
   ]
  },
  {
   "cell_type": "code",
   "execution_count": 24,
   "metadata": {},
   "outputs": [
    {
     "data": {
      "text/plain": [
       "{'location': 'India', 'language': 'Hindi', 'topic': 'Technology'}"
      ]
     },
     "execution_count": 24,
     "metadata": {},
     "output_type": "execute_result"
    }
   ],
   "source": [
    "client.get_config()"
   ]
  },
  {
   "cell_type": "code",
   "execution_count": 25,
   "metadata": {},
   "outputs": [
    {
     "data": {
      "text/plain": [
       "[{'title': 'भारत में लॉन्च हुआ सस्ता 5G स्मार्टफोन Infinix Zero 5G, इतनी कम कीमत से बढ़ेगी Xiaomi और Realme की मुसीबत - IndiaTV Paisa',\n",
       "  'link': 'https://news.google.com/__i/rss/rd/articles/CBMicmh0dHBzOi8vd3d3LmluZGlhdHYuaW4vcGFpc2EvZ2FkZ2V0cy9pbmZpbml4LXplcm8tNWctbGF1bmNoZWQtaW4taW5kaWEta25vdy1wcmljZS1zcGVjaWZpY2F0aW9ucy0yMDIyLTAyLTE1LTgzNTk3M9IBAA?oc=5',\n",
       "  'media': None},\n",
       " {'title': 'भारत में लॉन्च हुए ROG Phone 5S और 5S Pro, यूजर्स को मिलेगा जबरदस्त गेमिंग एक्सपीरियंस - TV9 Bharatvarsh',\n",
       "  'link': 'https://news.google.com/__i/rss/rd/articles/CBMiggFodHRwczovL3d3dy50djloaW5kaS5jb20vdGVjaG5vbG9neS9yb2ctcGhvbmUtNXMtYW5kLTVzLXByby1sYXVuY2hlZC1pbi1pbmRpYS11c2Vycy13aWxsLWdldC1iZXR0ZXItZ2FtaW5nLWV4cGVyaWVuY2UtMTA2Mjc2MS5odG1s0gEA?oc=5',\n",
       "  'media': None},\n",
       " {'title': 'खरीदना है सस्ता 5G फोन? Vivo T1 5G या Poco M4 Pro 5G में कौन है बेस्ट, दोनों में मिलता है 50MP कैमरा - आज तक',\n",
       "  'link': 'https://news.google.com/__i/rss/rd/articles/CBMiiwFodHRwczovL3d3dy5hYWp0YWsuaW4vdGVjaG5vbG9neS90ZWNoLWRlYWxzLS9waG90by92aXZvLXQxLTVnLXZzLXBvY28tbTQtcHJvLTVnLWNvbXBhcmUtcHJpY2UtY2FtZXJhLXNwZWNpZmljYXRpb25zLXR0ZWMtMTQxMjAyMy0yMDIyLTAyLTE10gGPAWh0dHBzOi8vd3d3LmFhanRhay5pbi9hbXAvdGVjaG5vbG9neS90ZWNoLWRlYWxzLS9waG90by92aXZvLXQxLTVnLXZzLXBvY28tbTQtcHJvLTVnLWNvbXBhcmUtcHJpY2UtY2FtZXJhLXNwZWNpZmljYXRpb25zLXR0ZWMtMTQxMjAyMy0yMDIyLTAyLTE1?oc=5',\n",
       "  'media': None},\n",
       " {'title': '48MP कैमरा वाला Samsung Galaxy A03 फोन भारत में जल्द होगा लॉन्च! कीमत भी हुई लीक - Gadgets 360 Hindi',\n",
       "  'link': 'https://news.google.com/__i/rss/rd/articles/CBMilAFodHRwczovL2hpbmRpLmdhZGdldHMzNjAuY29tL21vYmlsZXMvc2Ftc3VuZy1nYWxheHktYTAzLW1heS1pbmRpYS1pbi1sYXVuY2gtZmVicnVhcnktZW5kLW9yLWVhcmx5LW1hcmNoLXByaWNlLXVuZGVyLXJzLTEyMDAwLWxlYWstNDgtMDMtbmV3cy0yNzY4OTkz0gEA?oc=5',\n",
       "  'media': None},\n",
       " {'title': 'OnePlus Nord CE 2 5G: लॉन्च से पहले सामने आया इस फोन का डिजाइन, जानें कितनी होगी कीमत, क्\\u200dया हो सकते हैं फीचर्स - Jansatta',\n",
       "  'link': 'https://news.google.com/__i/rss/rd/articles/CBMicmh0dHBzOi8vd3d3LmphbnNhdHRhLmNvbS90ZWNobm9sb2d5LW5ld3Mvb25lcGx1cy1ub3JkLWNlLTItNWctZGVzaWduLW9mLXRoaXMtcGhvbmUtcmV2ZWFsZWQtYmVmb3JlLWxhdW5jaC8yMDQ1MDgyL9IBAA?oc=5',\n",
       "  'media': None},\n",
       " {'title': 'तहलका मचाने आ रहा Motorola का ये स्मार्टफोन, जानें कीमत और फीचर्स - Zee News Hindi',\n",
       "  'link': 'https://news.google.com/__i/rss/rd/articles/CBMifmh0dHBzOi8vemVlbmV3cy5pbmRpYS5jb20vaGluZGkvdGVjaG5vbG9neS9tb3Rvcm9sYS1lZGdlLTMwLXByby10by1iZS1sYXVuY2hlZC1zb29uLWtub3ctcHJpY2UtYW5kLWZlYXR1cmUtZGV0YWlscy8xMDk5MTg0L2FtcNIBAA?oc=5',\n",
       "  'media': None},\n",
       " {'title': 'काफी सस्ता मिल रहा है 6GB RAM वाला Redmi का बजट स्मार्टफोन, मिलेगी 5000mAh बैटरी - News18 हिंदी',\n",
       "  'link': 'https://news.google.com/__i/rss/rd/articles/CBMiogFodHRwczovL2hpbmRpLm5ld3MxOC5jb20vbmV3cy90ZWNoL3ZhbGVudGluZS1taS1vZmZlci1vbi1yZWRtaS1ub3RlLTEwdC01Zy1kaXNjb3VudC1hbmQtb2ZmZXItb24tdmFsZW50aW5lcy1kYXktZ2V0LXVwdG8tNmdiLXJhbS01MDAwbWFoLWJhdHRlcnktYWFhcS00MDEwNzY3Lmh0bWzSAQA?oc=5',\n",
       "  'media': None},\n",
       " {'title': 'Nokia G21 लॉन्च, मिलेगी 3 दिनों की लंबी बैटरी लाइफ, 50MP ट्रिपल कैमरे समेत ये कमाल के फीचर्स - दैनिक जागरण (Dainik Jagran)',\n",
       "  'link': 'https://news.google.com/__i/rss/rd/articles/CBMieWh0dHBzOi8vd3d3LmphZ3Jhbi5jb20vdGVjaG5vbG9neS9sYXRlc3QtbGF1bmNoLW5va2lhLWcyMS1sYXVuY2gtd2l0aC0zLWRheS1iYXR0ZXJ5LWxpZmUtNTBtcC10cmlwbGUtY2FtZXJhLTIyNDY4ODUzLmh0bWzSAQA?oc=5',\n",
       "  'media': None},\n",
       " {'title': 'सस्ते में खरीदें 8GB RAM और 64MP कैमरे वाला iQOO Z5 5G, 1129 रुपये की EMI में लाएं घर, Amazon Sale में है ऑफर - आज तक',\n",
       "  'link': 'https://news.google.com/__i/rss/rd/articles/CBMilAFodHRwczovL3d3dy5hYWp0YWsuaW4vdGVjaG5vbG9neS90ZWNoLWRlYWxzLS9waG90by84Z2ItcmFtLWFuZC02NG1wLWNhbWVyYS1mZWF0dXJlZC1pcW9vLXo1LTVnLWluLWFtYXpvbi1zYWxlLXdpdGgtZW1pLW9mZmVyLXR0ZWMtMTQxMTk2Mi0yMDIyLTAyLTE10gGYAWh0dHBzOi8vd3d3LmFhanRhay5pbi9hbXAvdGVjaG5vbG9neS90ZWNoLWRlYWxzLS9waG90by84Z2ItcmFtLWFuZC02NG1wLWNhbWVyYS1mZWF0dXJlZC1pcW9vLXo1LTVnLWluLWFtYXpvbi1zYWxlLXdpdGgtZW1pLW9mZmVyLXR0ZWMtMTQxMTk2Mi0yMDIyLTAyLTE1?oc=5',\n",
       "  'media': None},\n",
       " {'title': 'Tecno Pova 5G Review: 20 हजार के अंदर एक पावरफुल 5G स्मार्टफोन - Times Now Navbharat',\n",
       "  'link': 'https://news.google.com/__i/rss/rd/articles/CBMiXWh0dHBzOi8vd3d3LnRpbWVzbm93aGluZGkuY29tL3RlY2gtZ2FkZ2V0cy9hcnRpY2xlL3RlY25vLXBvdmEtNWctcmV2aWV3LXJlYWQtaW4tZGV0YWlsLzM4ODM0ONIBAA?oc=5',\n",
       "  'media': None}]"
      ]
     },
     "execution_count": 25,
     "metadata": {},
     "output_type": "execute_result"
    }
   ],
   "source": [
    "client.get_news()"
   ]
  },
  {
   "cell_type": "code",
   "execution_count": null,
   "metadata": {},
   "outputs": [],
   "source": []
  }
 ],
 "metadata": {
  "interpreter": {
   "hash": "aee8b7b246df8f9039afb4144a1f6fd8d2ca17a180786b69acc140d282b71a49"
  },
  "kernelspec": {
   "display_name": "Python 3.10.2 64-bit",
   "language": "python",
   "name": "python3"
  },
  "language_info": {
   "codemirror_mode": {
    "name": "ipython",
    "version": 3
   },
   "file_extension": ".py",
   "mimetype": "text/x-python",
   "name": "python",
   "nbconvert_exporter": "python",
   "pygments_lexer": "ipython3",
   "version": "3.10.2"
  },
  "orig_nbformat": 4
 },
 "nbformat": 4,
 "nbformat_minor": 2
}
